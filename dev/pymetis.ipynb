{
 "cells": [
  {
   "cell_type": "code",
   "execution_count": 1,
   "id": "9d1ea5c0",
   "metadata": {},
   "outputs": [],
   "source": [
    "from numpy import linspace\n",
    "import pymetis"
   ]
  },
  {
   "cell_type": "code",
   "execution_count": 2,
   "id": "f4713a3e",
   "metadata": {},
   "outputs": [],
   "source": [
    "def generate_mesh_2d(nx, ny):\n",
    "    \"\"\"\n",
    "    Generate simple 2D mesh connectivity with rectangular elements, eg\n",
    "          10 -- 11 -- 12 -- 13 -- 14\n",
    "          |     |     |     |     |\n",
    "          5 --- 6 --- 7 --- 8 --- 9\n",
    "          |     |     |     |     |\n",
    "          0 --- 1 --- 2 --- 3 --- 4\n",
    "    Notice that the element connectivity is specified in a counter\n",
    "    clockwise fasion.\n",
    "    \"\"\"\n",
    "    points = [\n",
    "        (x, y, 0.0)\n",
    "        for y in linspace(0, ny, ny+1)\n",
    "        for x in linspace(0, nx, nx+1)\n",
    "    ]\n",
    "    connectivity = [\n",
    "        [it+jt*(nx+1), it+jt*(nx+1)+1, it+(jt+1)*(nx+1)+1, it+(jt+1)*(nx+1)]\n",
    "        for jt in range(ny)\n",
    "        for it in range(nx)\n",
    "    ]\n",
    "\n",
    "    return points, connectivity"
   ]
  },
  {
   "cell_type": "code",
   "execution_count": 3,
   "id": "fe1a4bca",
   "metadata": {},
   "outputs": [],
   "source": [
    "n_cells_x = 70\n",
    "n_cells_y = 50\n",
    "points, connectivity = generate_mesh_2d(n_cells_x, n_cells_y)"
   ]
  },
  {
   "cell_type": "code",
   "execution_count": 18,
   "id": "38d8352f",
   "metadata": {
    "scrolled": true
   },
   "outputs": [
    {
     "data": {
      "text/plain": [
       "3621"
      ]
     },
     "execution_count": 18,
     "metadata": {},
     "output_type": "execute_result"
    }
   ],
   "source": [
    "len(points) # points"
   ]
  },
  {
   "cell_type": "code",
   "execution_count": 9,
   "id": "b6928856",
   "metadata": {},
   "outputs": [
    {
     "data": {
      "text/plain": [
       "3500"
      ]
     },
     "execution_count": 9,
     "metadata": {},
     "output_type": "execute_result"
    }
   ],
   "source": [
    "len(connectivity) # cells"
   ]
  },
  {
   "cell_type": "code",
   "execution_count": 6,
   "id": "5429a069",
   "metadata": {},
   "outputs": [],
   "source": [
    "npart = 4"
   ]
  },
  {
   "cell_type": "code",
   "execution_count": 10,
   "id": "2e7d80b6",
   "metadata": {},
   "outputs": [],
   "source": [
    "res = pymetis.part_mesh(npart, connectivity)"
   ]
  },
  {
   "cell_type": "code",
   "execution_count": 17,
   "id": "d1ce74df",
   "metadata": {},
   "outputs": [
    {
     "data": {
      "text/plain": [
       "3500"
      ]
     },
     "execution_count": 17,
     "metadata": {},
     "output_type": "execute_result"
    }
   ],
   "source": [
    "len(res.element_part) # partition"
   ]
  },
  {
   "cell_type": "code",
   "execution_count": null,
   "id": "d7832146",
   "metadata": {},
   "outputs": [],
   "source": []
  }
 ],
 "metadata": {
  "kernelspec": {
   "display_name": "Python 3",
   "language": "python",
   "name": "python3"
  },
  "language_info": {
   "codemirror_mode": {
    "name": "ipython",
    "version": 3
   },
   "file_extension": ".py",
   "mimetype": "text/x-python",
   "name": "python",
   "nbconvert_exporter": "python",
   "pygments_lexer": "ipython3",
   "version": "3.8.10"
  }
 },
 "nbformat": 4,
 "nbformat_minor": 5
}
